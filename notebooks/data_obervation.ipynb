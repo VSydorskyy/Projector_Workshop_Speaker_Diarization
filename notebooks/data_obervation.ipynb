{
 "cells": [
  {
   "cell_type": "code",
   "execution_count": 1,
   "id": "56bd8a3f-adb3-4abb-b7bb-756dc2171570",
   "metadata": {},
   "outputs": [
    {
     "name": "stderr",
     "output_type": "stream",
     "text": [
      "/tmp/ipykernel_2475630/29434539.py:9: DeprecationWarning: Please use `label` from the `scipy.ndimage` namespace, the `scipy.ndimage.measurements` namespace is deprecated.\n",
      "  from scipy.ndimage.measurements import label\n"
     ]
    }
   ],
   "source": [
    "import pandas as pd\n",
    "import numpy as np\n",
    "import librosa\n",
    "import IPython.display as ipd\n",
    "import matplotlib\n",
    "\n",
    "from matplotlib import pyplot as plt\n",
    "from copy import deepcopy\n",
    "from scipy.ndimage.measurements import label\n",
    "\n",
    "from code_base.utils import get_audio_path, milliseconds_2_points\n",
    "\n",
    "%matplotlib inline"
   ]
  },
  {
   "cell_type": "code",
   "execution_count": 2,
   "id": "c6ea42be-8ea5-40de-b1f6-54f83e6657b0",
   "metadata": {},
   "outputs": [],
   "source": [
    "MATPLOTLIB_COLORS = list(matplotlib.colors.BASE_COLORS.keys())[:-1] # exclude white"
   ]
  },
  {
   "cell_type": "markdown",
   "id": "60c21696-ef8a-4074-99c8-3c37e9529f22",
   "metadata": {},
   "source": [
    "# Tabular Data"
   ]
  },
  {
   "cell_type": "code",
   "execution_count": 3,
   "id": "48a17e02-2956-400c-91bf-99f5f3178b93",
   "metadata": {},
   "outputs": [
    {
     "data": {
      "text/html": [
       "<div>\n",
       "<style scoped>\n",
       "    .dataframe tbody tr th:only-of-type {\n",
       "        vertical-align: middle;\n",
       "    }\n",
       "\n",
       "    .dataframe tbody tr th {\n",
       "        vertical-align: top;\n",
       "    }\n",
       "\n",
       "    .dataframe thead th {\n",
       "        text-align: right;\n",
       "    }\n",
       "</style>\n",
       "<table border=\"1\" class=\"dataframe\">\n",
       "  <thead>\n",
       "    <tr style=\"text-align: right;\">\n",
       "      <th></th>\n",
       "      <th>sample_name</th>\n",
       "      <th>spk_name</th>\n",
       "      <th>replica_start</th>\n",
       "      <th>replica_end</th>\n",
       "    </tr>\n",
       "  </thead>\n",
       "  <tbody>\n",
       "    <tr>\n",
       "      <th>0</th>\n",
       "      <td>KB0RE000</td>\n",
       "      <td>PS002</td>\n",
       "      <td>0</td>\n",
       "      <td>2464</td>\n",
       "    </tr>\n",
       "    <tr>\n",
       "      <th>1</th>\n",
       "      <td>KB0RE000</td>\n",
       "      <td>PS006</td>\n",
       "      <td>2448</td>\n",
       "      <td>2688</td>\n",
       "    </tr>\n",
       "    <tr>\n",
       "      <th>2</th>\n",
       "      <td>KB0RE000</td>\n",
       "      <td>PS002</td>\n",
       "      <td>2688</td>\n",
       "      <td>3120</td>\n",
       "    </tr>\n",
       "    <tr>\n",
       "      <th>3</th>\n",
       "      <td>KB0RE000</td>\n",
       "      <td>PS006</td>\n",
       "      <td>3120</td>\n",
       "      <td>5056</td>\n",
       "    </tr>\n",
       "    <tr>\n",
       "      <th>4</th>\n",
       "      <td>KB0RE000</td>\n",
       "      <td>PS002</td>\n",
       "      <td>4880</td>\n",
       "      <td>5808</td>\n",
       "    </tr>\n",
       "    <tr>\n",
       "      <th>...</th>\n",
       "      <td>...</td>\n",
       "      <td>...</td>\n",
       "      <td>...</td>\n",
       "      <td>...</td>\n",
       "    </tr>\n",
       "    <tr>\n",
       "      <th>183120</th>\n",
       "      <td>KE6RE01R</td>\n",
       "      <td>PS0X9</td>\n",
       "      <td>889050</td>\n",
       "      <td>889570</td>\n",
       "    </tr>\n",
       "    <tr>\n",
       "      <th>183121</th>\n",
       "      <td>KE6RE01R</td>\n",
       "      <td>PS0X8</td>\n",
       "      <td>889570</td>\n",
       "      <td>904510</td>\n",
       "    </tr>\n",
       "    <tr>\n",
       "      <th>183122</th>\n",
       "      <td>KE6RE01R</td>\n",
       "      <td>PS0X9</td>\n",
       "      <td>904510</td>\n",
       "      <td>904600</td>\n",
       "    </tr>\n",
       "    <tr>\n",
       "      <th>183123</th>\n",
       "      <td>KE6RE01R</td>\n",
       "      <td>PS0X8</td>\n",
       "      <td>904600</td>\n",
       "      <td>923190</td>\n",
       "    </tr>\n",
       "    <tr>\n",
       "      <th>183124</th>\n",
       "      <td>KE6RE01R</td>\n",
       "      <td>PS0X9</td>\n",
       "      <td>923190</td>\n",
       "      <td>923380</td>\n",
       "    </tr>\n",
       "  </tbody>\n",
       "</table>\n",
       "<p>183125 rows × 4 columns</p>\n",
       "</div>"
      ],
      "text/plain": [
       "       sample_name spk_name  replica_start  replica_end\n",
       "0         KB0RE000    PS002              0         2464\n",
       "1         KB0RE000    PS006           2448         2688\n",
       "2         KB0RE000    PS002           2688         3120\n",
       "3         KB0RE000    PS006           3120         5056\n",
       "4         KB0RE000    PS002           4880         5808\n",
       "...            ...      ...            ...          ...\n",
       "183120    KE6RE01R    PS0X9         889050       889570\n",
       "183121    KE6RE01R    PS0X8         889570       904510\n",
       "183122    KE6RE01R    PS0X9         904510       904600\n",
       "183123    KE6RE01R    PS0X8         904600       923190\n",
       "183124    KE6RE01R    PS0X9         923190       923380\n",
       "\n",
       "[183125 rows x 4 columns]"
      ]
     },
     "execution_count": 3,
     "metadata": {},
     "output_type": "execute_result"
    }
   ],
   "source": [
    "df = pd.read_csv(\"../data/processed/markup.csv\")\n",
    "df"
   ]
  },
  {
   "cell_type": "code",
   "execution_count": 4,
   "id": "617546f7-1154-4ee7-b1c6-884ddd45b878",
   "metadata": {},
   "outputs": [
    {
     "name": "stdout",
     "output_type": "stream",
     "text": [
      "Number of episodes: 1588\n",
      "Number of speakers: 520\n",
      "Median number of speakers in episode: 2.0\n",
      "Min number of speakers in episode: 1\n",
      "Max number of speakers in episode: 13\n"
     ]
    },
    {
     "data": {
      "image/png": "[encoded data removed]",
      "text/plain": [
       "<Figure size 432x288 with 1 Axes>"
      ]
     },
     "metadata": {
      "needs_background": "light"
     },
     "output_type": "display_data"
    },
    {
     "name": "stdout",
     "output_type": "stream",
     "text": [
      "Min episode duration: 0.0015\n",
      "Max episode duration: 47.038\n",
      "Median episode duration: 3.185083333333333\n"
     ]
    },
    {
     "data": {
      "image/png": "[encoded data removed]",
      "text/plain": [
       "<Figure size 432x288 with 1 Axes>"
      ]
     },
     "metadata": {
      "needs_background": "light"
     },
     "output_type": "display_data"
    }
   ],
   "source": [
    "print(f\"Number of episodes: {df['sample_name'].nunique()}\")\n",
    "print(f\"Number of speakers: {df['spk_name'].nunique()}\")\n",
    "\n",
    "episode_speakers =  df.groupby('sample_name')['spk_name'].apply(np.unique)\n",
    "episode_n_speakers = episode_speakers.apply(len)\n",
    "print(f\"Median number of speakers in episode: {episode_n_speakers.median()}\")\n",
    "print(f\"Min number of speakers in episode: {episode_n_speakers.min()}\")\n",
    "print(f\"Max number of speakers in episode: {episode_n_speakers.max()}\")\n",
    "plt.title(\"Speakers in episode\")\n",
    "plt.hist(episode_n_speakers, bins=30)\n",
    "plt.show()\n",
    "\n",
    "episode_durations = df.groupby('sample_name').apply(lambda x: (x['replica_end'].max() - x['replica_start'].min()) / (1000 * 60))\n",
    "print(f\"Min episode duration: {episode_durations.min()}\")\n",
    "print(f\"Max episode duration: {episode_durations.max()}\")\n",
    "print(f\"Median episode duration: {episode_durations.median()}\")\n",
    "plt.title(\"Episode duration hits\")\n",
    "plt.hist(episode_durations, bins=30)\n",
    "plt.show()"
   ]
  },
  {
   "cell_type": "markdown",
   "id": "73cef63d-efb3-4848-8f3f-8242f675a70d",
   "metadata": {},
   "source": [
    "## Data filtering\n",
    "\n",
    "Lets filter some strange episodes in separate DF. We will define strange episodes as such, which:\n",
    "- duration < 1 min\n",
    "- n_speakers > 4"
   ]
  },
  {
   "cell_type": "code",
   "execution_count": 5,
   "id": "fdb0a646-35dd-461a-9483-a0dd89d21be5",
   "metadata": {},
   "outputs": [
    {
     "data": {
      "text/html": [
       "<div>\n",
       "<style scoped>\n",
       "    .dataframe tbody tr th:only-of-type {\n",
       "        vertical-align: middle;\n",
       "    }\n",
       "\n",
       "    .dataframe tbody tr th {\n",
       "        vertical-align: top;\n",
       "    }\n",
       "\n",
       "    .dataframe thead th {\n",
       "        text-align: right;\n",
       "    }\n",
       "</style>\n",
       "<table border=\"1\" class=\"dataframe\">\n",
       "  <thead>\n",
       "    <tr style=\"text-align: right;\">\n",
       "      <th></th>\n",
       "      <th>sample_name</th>\n",
       "      <th>spk_name</th>\n",
       "      <th>duration</th>\n",
       "    </tr>\n",
       "  </thead>\n",
       "  <tbody>\n",
       "    <tr>\n",
       "      <th>0</th>\n",
       "      <td>KB0RE000</td>\n",
       "      <td>[KB0PSUN, PS002, PS006]</td>\n",
       "      <td>6.562917</td>\n",
       "    </tr>\n",
       "    <tr>\n",
       "      <th>1</th>\n",
       "      <td>KB0RE001</td>\n",
       "      <td>[KB0PSUN, PS005, PS007]</td>\n",
       "      <td>4.657333</td>\n",
       "    </tr>\n",
       "    <tr>\n",
       "      <th>2</th>\n",
       "      <td>KB0RE002</td>\n",
       "      <td>[PS003, PS007]</td>\n",
       "      <td>3.199833</td>\n",
       "    </tr>\n",
       "    <tr>\n",
       "      <th>3</th>\n",
       "      <td>KB0RE003</td>\n",
       "      <td>[PS006, PS007]</td>\n",
       "      <td>29.664500</td>\n",
       "    </tr>\n",
       "    <tr>\n",
       "      <th>4</th>\n",
       "      <td>KB0RE005</td>\n",
       "      <td>[KB0PSUN, PS003, PS004, PS009, PS00A]</td>\n",
       "      <td>29.614667</td>\n",
       "    </tr>\n",
       "    <tr>\n",
       "      <th>...</th>\n",
       "      <td>...</td>\n",
       "      <td>...</td>\n",
       "      <td>...</td>\n",
       "    </tr>\n",
       "    <tr>\n",
       "      <th>1583</th>\n",
       "      <td>KE6RE01C</td>\n",
       "      <td>[PS0X8, PS0X9]</td>\n",
       "      <td>1.302667</td>\n",
       "    </tr>\n",
       "    <tr>\n",
       "      <th>1584</th>\n",
       "      <td>KE6RE01D</td>\n",
       "      <td>[PS0X8, PS0X9]</td>\n",
       "      <td>6.162333</td>\n",
       "    </tr>\n",
       "    <tr>\n",
       "      <th>1585</th>\n",
       "      <td>KE6RE01L</td>\n",
       "      <td>[PS0X8, PS0X9]</td>\n",
       "      <td>4.769833</td>\n",
       "    </tr>\n",
       "    <tr>\n",
       "      <th>1586</th>\n",
       "      <td>KE6RE01N</td>\n",
       "      <td>[PS0X8, PS0X9, PS0XA]</td>\n",
       "      <td>4.131500</td>\n",
       "    </tr>\n",
       "    <tr>\n",
       "      <th>1587</th>\n",
       "      <td>KE6RE01R</td>\n",
       "      <td>[PS0X8, PS0X9]</td>\n",
       "      <td>15.389667</td>\n",
       "    </tr>\n",
       "  </tbody>\n",
       "</table>\n",
       "<p>1588 rows × 3 columns</p>\n",
       "</div>"
      ],
      "text/plain": [
       "     sample_name                               spk_name   duration\n",
       "0       KB0RE000                [KB0PSUN, PS002, PS006]   6.562917\n",
       "1       KB0RE001                [KB0PSUN, PS005, PS007]   4.657333\n",
       "2       KB0RE002                         [PS003, PS007]   3.199833\n",
       "3       KB0RE003                         [PS006, PS007]  29.664500\n",
       "4       KB0RE005  [KB0PSUN, PS003, PS004, PS009, PS00A]  29.614667\n",
       "...          ...                                    ...        ...\n",
       "1583    KE6RE01C                         [PS0X8, PS0X9]   1.302667\n",
       "1584    KE6RE01D                         [PS0X8, PS0X9]   6.162333\n",
       "1585    KE6RE01L                         [PS0X8, PS0X9]   4.769833\n",
       "1586    KE6RE01N                  [PS0X8, PS0X9, PS0XA]   4.131500\n",
       "1587    KE6RE01R                         [PS0X8, PS0X9]  15.389667\n",
       "\n",
       "[1588 rows x 3 columns]"
      ]
     },
     "execution_count": 5,
     "metadata": {},
     "output_type": "execute_result"
    }
   ],
   "source": [
    "episode_meta_info = episode_speakers.reset_index().merge(\n",
    "    episode_durations.reset_index().rename(columns={0:\"duration\"}), \n",
    "    on=\"sample_name\"\n",
    ")\n",
    "\n",
    "episode_meta_info"
   ]
  },
  {
   "cell_type": "code",
   "execution_count": 6,
   "id": "413ec408-2b73-45fe-99a1-472940aa88c9",
   "metadata": {},
   "outputs": [
    {
     "name": "stdout",
     "output_type": "stream",
     "text": [
      "Number of strange episodes: 540\n",
      "Number of good episodes: 1048\n",
      "Overall duration of strange episodes: 3399.9752833333337\n",
      "Overall duration of good episodes: 9008.198983333332\n"
     ]
    }
   ],
   "source": [
    "strange_episodes = episode_meta_info.loc[(episode_meta_info[\"duration\"] < 1) | (episode_meta_info[\"spk_name\"].apply(len) > 4), \"sample_name\"].tolist()\n",
    "good_episodes = list(set(episode_meta_info[\"sample_name\"]) - set(strange_episodes))\n",
    "\n",
    "print(f\"Number of strange episodes: {len(strange_episodes)}\")\n",
    "print(f\"Number of good episodes: {len(good_episodes)}\")\n",
    "\n",
    "print(f\"Overall duration of strange episodes: {episode_meta_info.loc[episode_meta_info['sample_name'].isin(strange_episodes), 'duration'].sum()}\")\n",
    "print(f\"Overall duration of good episodes: {episode_meta_info.loc[episode_meta_info['sample_name'].isin(good_episodes), 'duration'].sum()}\")"
   ]
  },
  {
   "cell_type": "code",
   "execution_count": 8,
   "id": "dbaf06a6-a20f-4f13-90b7-988eb89c29ca",
   "metadata": {},
   "outputs": [
    {
     "data": {
      "text/html": [
       "<div>\n",
       "<style scoped>\n",
       "    .dataframe tbody tr th:only-of-type {\n",
       "        vertical-align: middle;\n",
       "    }\n",
       "\n",
       "    .dataframe tbody tr th {\n",
       "        vertical-align: top;\n",
       "    }\n",
       "\n",
       "    .dataframe thead th {\n",
       "        text-align: right;\n",
       "    }\n",
       "</style>\n",
       "<table border=\"1\" class=\"dataframe\">\n",
       "  <thead>\n",
       "    <tr style=\"text-align: right;\">\n",
       "      <th></th>\n",
       "      <th>sample_name</th>\n",
       "      <th>spk_name</th>\n",
       "      <th>replica_start</th>\n",
       "      <th>replica_end</th>\n",
       "    </tr>\n",
       "  </thead>\n",
       "  <tbody>\n",
       "    <tr>\n",
       "      <th>0</th>\n",
       "      <td>KB0RE000</td>\n",
       "      <td>PS002</td>\n",
       "      <td>0</td>\n",
       "      <td>2464</td>\n",
       "    </tr>\n",
       "    <tr>\n",
       "      <th>1</th>\n",
       "      <td>KB0RE000</td>\n",
       "      <td>PS006</td>\n",
       "      <td>2448</td>\n",
       "      <td>2688</td>\n",
       "    </tr>\n",
       "    <tr>\n",
       "      <th>2</th>\n",
       "      <td>KB0RE000</td>\n",
       "      <td>PS002</td>\n",
       "      <td>2688</td>\n",
       "      <td>3120</td>\n",
       "    </tr>\n",
       "    <tr>\n",
       "      <th>3</th>\n",
       "      <td>KB0RE000</td>\n",
       "      <td>PS006</td>\n",
       "      <td>3120</td>\n",
       "      <td>5056</td>\n",
       "    </tr>\n",
       "    <tr>\n",
       "      <th>4</th>\n",
       "      <td>KB0RE000</td>\n",
       "      <td>PS002</td>\n",
       "      <td>4880</td>\n",
       "      <td>5808</td>\n",
       "    </tr>\n",
       "    <tr>\n",
       "      <th>...</th>\n",
       "      <td>...</td>\n",
       "      <td>...</td>\n",
       "      <td>...</td>\n",
       "      <td>...</td>\n",
       "    </tr>\n",
       "    <tr>\n",
       "      <th>183120</th>\n",
       "      <td>KE6RE01R</td>\n",
       "      <td>PS0X9</td>\n",
       "      <td>889050</td>\n",
       "      <td>889570</td>\n",
       "    </tr>\n",
       "    <tr>\n",
       "      <th>183121</th>\n",
       "      <td>KE6RE01R</td>\n",
       "      <td>PS0X8</td>\n",
       "      <td>889570</td>\n",
       "      <td>904510</td>\n",
       "    </tr>\n",
       "    <tr>\n",
       "      <th>183122</th>\n",
       "      <td>KE6RE01R</td>\n",
       "      <td>PS0X9</td>\n",
       "      <td>904510</td>\n",
       "      <td>904600</td>\n",
       "    </tr>\n",
       "    <tr>\n",
       "      <th>183123</th>\n",
       "      <td>KE6RE01R</td>\n",
       "      <td>PS0X8</td>\n",
       "      <td>904600</td>\n",
       "      <td>923190</td>\n",
       "    </tr>\n",
       "    <tr>\n",
       "      <th>183124</th>\n",
       "      <td>KE6RE01R</td>\n",
       "      <td>PS0X9</td>\n",
       "      <td>923190</td>\n",
       "      <td>923380</td>\n",
       "    </tr>\n",
       "  </tbody>\n",
       "</table>\n",
       "<p>122893 rows × 4 columns</p>\n",
       "</div>"
      ],
      "text/plain": [
       "       sample_name spk_name  replica_start  replica_end\n",
       "0         KB0RE000    PS002              0         2464\n",
       "1         KB0RE000    PS006           2448         2688\n",
       "2         KB0RE000    PS002           2688         3120\n",
       "3         KB0RE000    PS006           3120         5056\n",
       "4         KB0RE000    PS002           4880         5808\n",
       "...            ...      ...            ...          ...\n",
       "183120    KE6RE01R    PS0X9         889050       889570\n",
       "183121    KE6RE01R    PS0X8         889570       904510\n",
       "183122    KE6RE01R    PS0X9         904510       904600\n",
       "183123    KE6RE01R    PS0X8         904600       923190\n",
       "183124    KE6RE01R    PS0X9         923190       923380\n",
       "\n",
       "[122893 rows x 4 columns]"
      ]
     },
     "execution_count": 8,
     "metadata": {},
     "output_type": "execute_result"
    }
   ],
   "source": [
    "filtered_df = df[df.sample_name.isin(good_episodes)]\n",
    "filtered_df.to_csv(\"../data/processed/markup_filtered.csv\", index=False)\n",
    "filtered_df"
   ]
  },
  {
   "cell_type": "markdown",
   "id": "12e2a375-f654-4a69-9d3a-38dce4ee2001",
   "metadata": {},
   "source": [
    "# Check audio samples"
   ]
  },
  {
   "cell_type": "code",
   "execution_count": 9,
   "id": "1c943fad-b152-43a9-b7e9-f1605bb20cb4",
   "metadata": {},
   "outputs": [],
   "source": [
    "def get_spk_mask(input_df, input_au, input_sr, plot=True):\n",
    "    unique_spks = input_df.spk_name.unique()\n",
    "    spk2id = {spk:i for i,spk in enumerate(unique_spks)}\n",
    "    au_mask = np.full(input_au.shape[0], -1)\n",
    "      \n",
    "    for start, end, spk in zip(input_df.replica_start, input_df.replica_end, input_df.spk_name):\n",
    "        spk_id = spk2id[spk]\n",
    "        au_mask[milliseconds_2_points(start, input_sr):milliseconds_2_points(end, input_sr)] = spk_id\n",
    "                \n",
    "    return au_mask, spk2id\n",
    "\n",
    "def plot_masked_au(input_au, mask_au, input_spk2id):\n",
    "    id2spk = {v:k for k,v in input_spk2id.items()}\n",
    "    id2spk[-1] = \"not_spk\"\n",
    "    x_axis = np.arange(len(input_au)) / (16_000 * 60)\n",
    "    connected_comps, _ = label(mask_au+1)\n",
    "    plotted_spks = []\n",
    "    \n",
    "    plt.figure(figsize=(30,10))\n",
    "    plt.title(\"Masked Wave\")\n",
    "    for con_comp_id in np.unique(connected_comps):\n",
    "        spk_id =  mask_au[connected_comps==con_comp_id][0]\n",
    "        spk = id2spk[spk_id]\n",
    "        plt.plot(\n",
    "            x_axis[connected_comps==con_comp_id],\n",
    "            input_au[connected_comps==con_comp_id],\n",
    "            color=MATPLOTLIB_COLORS[spk_id],\n",
    "            label=None if spk in plotted_spks else spk\n",
    "        )\n",
    "        plotted_spks.append(spk)\n",
    "        \n",
    "    plt.legend()\n",
    "    plt.show()"
   ]
  },
  {
   "cell_type": "code",
   "execution_count": 10,
   "id": "26d9a770-4ae5-4b3c-be05-5ca6ba543bc7",
   "metadata": {},
   "outputs": [],
   "source": [
    "episode_name = good_episodes[2]\n",
    "episode_au, episode_sr = librosa.load(get_audio_path(\"../data/processed/audio/\", episode_name), sr=None)\n",
    "\n",
    "# ipd.Audio(data=episode_au, rate=episode_sr)"
   ]
  },
  {
   "cell_type": "code",
   "execution_count": 11,
   "id": "eabfd7ec-d1f7-4b5d-b3a0-024c2e7c5187",
   "metadata": {},
   "outputs": [
    {
     "name": "stdout",
     "output_type": "stream",
     "text": [
      "Episode speakers: ['PS05X' 'PS101']\n"
     ]
    },
    {
     "data": {
      "text/html": [
       "<div>\n",
       "<style scoped>\n",
       "    .dataframe tbody tr th:only-of-type {\n",
       "        vertical-align: middle;\n",
       "    }\n",
       "\n",
       "    .dataframe tbody tr th {\n",
       "        vertical-align: top;\n",
       "    }\n",
       "\n",
       "    .dataframe thead th {\n",
       "        text-align: right;\n",
       "    }\n",
       "</style>\n",
       "<table border=\"1\" class=\"dataframe\">\n",
       "  <thead>\n",
       "    <tr style=\"text-align: right;\">\n",
       "      <th></th>\n",
       "      <th>sample_name</th>\n",
       "      <th>spk_name</th>\n",
       "      <th>replica_start</th>\n",
       "      <th>replica_end</th>\n",
       "    </tr>\n",
       "  </thead>\n",
       "  <tbody>\n",
       "    <tr>\n",
       "      <th>0</th>\n",
       "      <td>KBKRE037</td>\n",
       "      <td>PS05X</td>\n",
       "      <td>0</td>\n",
       "      <td>1400</td>\n",
       "    </tr>\n",
       "    <tr>\n",
       "      <th>1</th>\n",
       "      <td>KBKRE037</td>\n",
       "      <td>PS101</td>\n",
       "      <td>1400</td>\n",
       "      <td>8320</td>\n",
       "    </tr>\n",
       "    <tr>\n",
       "      <th>2</th>\n",
       "      <td>KBKRE037</td>\n",
       "      <td>PS05X</td>\n",
       "      <td>8320</td>\n",
       "      <td>9380</td>\n",
       "    </tr>\n",
       "    <tr>\n",
       "      <th>3</th>\n",
       "      <td>KBKRE037</td>\n",
       "      <td>PS101</td>\n",
       "      <td>9680</td>\n",
       "      <td>10060</td>\n",
       "    </tr>\n",
       "    <tr>\n",
       "      <th>4</th>\n",
       "      <td>KBKRE037</td>\n",
       "      <td>PS05X</td>\n",
       "      <td>10760</td>\n",
       "      <td>11370</td>\n",
       "    </tr>\n",
       "  </tbody>\n",
       "</table>\n",
       "</div>"
      ],
      "text/plain": [
       "  sample_name spk_name  replica_start  replica_end\n",
       "0    KBKRE037    PS05X              0         1400\n",
       "1    KBKRE037    PS101           1400         8320\n",
       "2    KBKRE037    PS05X           8320         9380\n",
       "3    KBKRE037    PS101           9680        10060\n",
       "4    KBKRE037    PS05X          10760        11370"
      ]
     },
     "execution_count": 11,
     "metadata": {},
     "output_type": "execute_result"
    }
   ],
   "source": [
    "episode_df = df[df.sample_name == episode_name].reset_index(drop=True)\n",
    "print(f\"Episode speakers: {episode_df.spk_name.unique()}\")\n",
    "episode_df.head(5)"
   ]
  },
  {
   "cell_type": "code",
   "execution_count": 12,
   "id": "e51b4837-1279-466d-b7ae-22da677af0ae",
   "metadata": {},
   "outputs": [
    {
     "data": {
      "image/png": "[encoded data removed]",
      "text/plain": [
       "<Figure size 2160x720 with 1 Axes>"
      ]
     },
     "metadata": {
      "needs_background": "light"
     },
     "output_type": "display_data"
    }
   ],
   "source": [
    "episode_mask, episode_spk2id = get_spk_mask(episode_df, episode_au, episode_sr)\n",
    "\n",
    "plt.figure(figsize=(30,10))\n",
    "plt.title(f\"Episode spk mask. Labels = {episode_spk2id}\")\n",
    "plt.plot(np.arange(len(episode_mask)) / (16_000 * 60), episode_mask)\n",
    "plt.xlabel(\"minutes\")\n",
    "plt.ylabel(\"speaker id\")\n",
    "plt.show()"
   ]
  },
  {
   "cell_type": "code",
   "execution_count": 13,
   "id": "8ecbb6e1-d963-41c4-a605-8dd56702ccdd",
   "metadata": {},
   "outputs": [],
   "source": [
    "# ipd.Audio(data=episode_au[episode_mask==episode_spk2id[\"PS04U\"]], rate=episode_sr)"
   ]
  },
  {
   "cell_type": "code",
   "execution_count": 14,
   "id": "d0a7e7db-e1b2-4182-9d9e-95613243844b",
   "metadata": {},
   "outputs": [
    {
     "data": {
      "image/png": "[encoded data removed]",
      "text/plain": [
       "<Figure size 2160x720 with 1 Axes>"
      ]
     },
     "metadata": {
      "needs_background": "light"
     },
     "output_type": "display_data"
    }
   ],
   "source": [
    "plot_masked_au(\n",
    "    episode_au,\n",
    "    episode_mask,\n",
    "    episode_spk2id\n",
    ")"
   ]
  },
  {
   "cell_type": "code",
   "execution_count": null,
   "id": "1a99b4c6-2f26-4bb2-b879-612fc05e62e2",
   "metadata": {},
   "outputs": [],
   "source": []
  }
 ],
 "metadata": {
  "kernelspec": {
   "display_name": "Python 3 (ipykernel)",
   "language": "python",
   "name": "python3"
  },
  "language_info": {
   "codemirror_mode": {
    "name": "ipython",
    "version": 3
   },
   "file_extension": ".py",
   "mimetype": "text/x-python",
   "name": "python",
   "nbconvert_exporter": "python",
   "pygments_lexer": "ipython3",
   "version": "3.8.12"
  }
 },
 "nbformat": 4,
 "nbformat_minor": 5
}
